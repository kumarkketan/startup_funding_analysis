{
 "cells": [
  {
   "cell_type": "code",
   "execution_count": 1,
   "id": "dabcd2eb-9108-4918-972f-e71656211403",
   "metadata": {},
   "outputs": [],
   "source": [
    "import pandas as pd\n",
    "import numpy as np\n",
    "import matplotlib.pyplot as plt\n",
    "import seaborn"
   ]
  },
  {
   "cell_type": "code",
   "execution_count": 2,
   "id": "a22fca57-cf02-46e9-ad66-4fcfcb2d2978",
   "metadata": {},
   "outputs": [],
   "source": [
    "df=pd.read_csv('clean_data.csv')"
   ]
  },
  {
   "cell_type": "code",
   "execution_count": 3,
   "id": "0c344713-66ab-47d9-89f2-f350c63949e7",
   "metadata": {},
   "outputs": [
    {
     "data": {
      "text/html": [
       "<div>\n",
       "<style scoped>\n",
       "    .dataframe tbody tr th:only-of-type {\n",
       "        vertical-align: middle;\n",
       "    }\n",
       "\n",
       "    .dataframe tbody tr th {\n",
       "        vertical-align: top;\n",
       "    }\n",
       "\n",
       "    .dataframe thead th {\n",
       "        text-align: right;\n",
       "    }\n",
       "</style>\n",
       "<table border=\"1\" class=\"dataframe\">\n",
       "  <thead>\n",
       "    <tr style=\"text-align: right;\">\n",
       "      <th></th>\n",
       "      <th>Date</th>\n",
       "      <th>Industry_Vertical</th>\n",
       "      <th>Sub_Vertical</th>\n",
       "      <th>City</th>\n",
       "      <th>Invester_name</th>\n",
       "      <th>Investment_Type</th>\n",
       "      <th>Funding_Amount_in_cr</th>\n",
       "      <th>Startup_name</th>\n",
       "    </tr>\n",
       "  </thead>\n",
       "  <tbody>\n",
       "    <tr>\n",
       "      <th>23</th>\n",
       "      <td>11-11-2019</td>\n",
       "      <td>Last Mile Transportation</td>\n",
       "      <td>Electric bike rental</td>\n",
       "      <td>Amritsar</td>\n",
       "      <td>Startup Buddy</td>\n",
       "      <td>Seed Funding Round</td>\n",
       "      <td>2.40</td>\n",
       "      <td>Furtados School Of Music</td>\n",
       "    </tr>\n",
       "    <tr>\n",
       "      <th>393</th>\n",
       "      <td>27-11-2017</td>\n",
       "      <td>Technology</td>\n",
       "      <td>Virtual Reality based gaming platform</td>\n",
       "      <td>Mumbai</td>\n",
       "      <td>Sixth Sense Ventures</td>\n",
       "      <td>Private Equity</td>\n",
       "      <td>30.40</td>\n",
       "      <td>Goodbox</td>\n",
       "    </tr>\n",
       "    <tr>\n",
       "      <th>832</th>\n",
       "      <td>22-09-2016</td>\n",
       "      <td>Technology</td>\n",
       "      <td>Mobile App Development company</td>\n",
       "      <td>Bangalore</td>\n",
       "      <td>Undisclosed investors</td>\n",
       "      <td>Seed Funding Round</td>\n",
       "      <td>8.00</td>\n",
       "      <td>Prothom</td>\n",
       "    </tr>\n",
       "    <tr>\n",
       "      <th>1371</th>\n",
       "      <td>14-07-2015</td>\n",
       "      <td>Online comparison engine</td>\n",
       "      <td>Undefined</td>\n",
       "      <td>Hyderabad</td>\n",
       "      <td>Accel Partners, Helion Venture Partners</td>\n",
       "      <td>Private Equity</td>\n",
       "      <td>80.00</td>\n",
       "      <td>NaN</td>\n",
       "    </tr>\n",
       "    <tr>\n",
       "      <th>1322</th>\n",
       "      <td>05-08-2015</td>\n",
       "      <td>Online budget hotel chain</td>\n",
       "      <td>Undefined</td>\n",
       "      <td>New Delhi</td>\n",
       "      <td>Tiger Global Management, Orios Venture Partners</td>\n",
       "      <td>Private Equity</td>\n",
       "      <td>240.00</td>\n",
       "      <td>NaN</td>\n",
       "    </tr>\n",
       "    <tr>\n",
       "      <th>687</th>\n",
       "      <td>26-01-2017</td>\n",
       "      <td>Consumer Internet</td>\n",
       "      <td>Health Tests Booking platform &amp; ePharmacy</td>\n",
       "      <td>Ahmedabad</td>\n",
       "      <td>Brand Capital</td>\n",
       "      <td>Private Equity</td>\n",
       "      <td>11.20</td>\n",
       "      <td>Juspay</td>\n",
       "    </tr>\n",
       "    <tr>\n",
       "      <th>507</th>\n",
       "      <td>08-06-2017</td>\n",
       "      <td>Consumer Internet</td>\n",
       "      <td>App-based Investment advisory Services</td>\n",
       "      <td>Bangalore</td>\n",
       "      <td>Mohan Alexander, R. Natarajan, Vikrant Varshne...</td>\n",
       "      <td>Seed Funding Round</td>\n",
       "      <td>2.80</td>\n",
       "      <td>Iim Jobs</td>\n",
       "    </tr>\n",
       "    <tr>\n",
       "      <th>1414</th>\n",
       "      <td>15-06-2015</td>\n",
       "      <td>Intra-City Logistics service</td>\n",
       "      <td>Undefined</td>\n",
       "      <td>Bangalore</td>\n",
       "      <td>i2india Pvt Ltd</td>\n",
       "      <td>Seed Funding Round</td>\n",
       "      <td>4.00</td>\n",
       "      <td>NaN</td>\n",
       "    </tr>\n",
       "    <tr>\n",
       "      <th>183</th>\n",
       "      <td>24-07-2018</td>\n",
       "      <td>Ed-Tech</td>\n",
       "      <td>Skill Learning Platform</td>\n",
       "      <td>Bengaluru</td>\n",
       "      <td>Gray Matters</td>\n",
       "      <td>Seed Funding Round</td>\n",
       "      <td>1.44</td>\n",
       "      <td>Opentap</td>\n",
       "    </tr>\n",
       "    <tr>\n",
       "      <th>901</th>\n",
       "      <td>13-07-2016</td>\n",
       "      <td>Consumer Internet</td>\n",
       "      <td>Online Furniture Renting Platform</td>\n",
       "      <td>Bangalore</td>\n",
       "      <td>Accel Partners, IDG Ventures India</td>\n",
       "      <td>Private Equity</td>\n",
       "      <td>40.00</td>\n",
       "      <td>Nimble Wireless</td>\n",
       "    </tr>\n",
       "  </tbody>\n",
       "</table>\n",
       "</div>"
      ],
      "text/plain": [
       "            Date             Industry_Vertical  \\\n",
       "23    11-11-2019      Last Mile Transportation   \n",
       "393   27-11-2017                    Technology   \n",
       "832   22-09-2016                    Technology   \n",
       "1371  14-07-2015      Online comparison engine   \n",
       "1322  05-08-2015     Online budget hotel chain   \n",
       "687   26-01-2017             Consumer Internet   \n",
       "507   08-06-2017             Consumer Internet   \n",
       "1414  15-06-2015  Intra-City Logistics service   \n",
       "183   24-07-2018                       Ed-Tech   \n",
       "901   13-07-2016             Consumer Internet   \n",
       "\n",
       "                                   Sub_Vertical       City  \\\n",
       "23                         Electric bike rental   Amritsar   \n",
       "393       Virtual Reality based gaming platform     Mumbai   \n",
       "832              Mobile App Development company  Bangalore   \n",
       "1371                                  Undefined  Hyderabad   \n",
       "1322                                  Undefined  New Delhi   \n",
       "687   Health Tests Booking platform & ePharmacy  Ahmedabad   \n",
       "507      App-based Investment advisory Services  Bangalore   \n",
       "1414                                  Undefined  Bangalore   \n",
       "183                     Skill Learning Platform  Bengaluru   \n",
       "901           Online Furniture Renting Platform  Bangalore   \n",
       "\n",
       "                                          Invester_name     Investment_Type  \\\n",
       "23                                        Startup Buddy  Seed Funding Round   \n",
       "393                                Sixth Sense Ventures      Private Equity   \n",
       "832                               Undisclosed investors  Seed Funding Round   \n",
       "1371            Accel Partners, Helion Venture Partners      Private Equity   \n",
       "1322    Tiger Global Management, Orios Venture Partners      Private Equity   \n",
       "687                                       Brand Capital      Private Equity   \n",
       "507   Mohan Alexander, R. Natarajan, Vikrant Varshne...  Seed Funding Round   \n",
       "1414                                    i2india Pvt Ltd  Seed Funding Round   \n",
       "183                                        Gray Matters  Seed Funding Round   \n",
       "901                  Accel Partners, IDG Ventures India      Private Equity   \n",
       "\n",
       "      Funding_Amount_in_cr              Startup_name  \n",
       "23                    2.40  Furtados School Of Music  \n",
       "393                  30.40                   Goodbox  \n",
       "832                   8.00                   Prothom  \n",
       "1371                 80.00                       NaN  \n",
       "1322                240.00                       NaN  \n",
       "687                  11.20                    Juspay  \n",
       "507                   2.80                  Iim Jobs  \n",
       "1414                  4.00                       NaN  \n",
       "183                   1.44                   Opentap  \n",
       "901                  40.00           Nimble Wireless  "
      ]
     },
     "execution_count": 3,
     "metadata": {},
     "output_type": "execute_result"
    }
   ],
   "source": [
    "df.sample(10)"
   ]
  },
  {
   "cell_type": "code",
   "execution_count": 38,
   "id": "847fb0ed-67b4-4e9f-87ee-ba6a8a9e9d64",
   "metadata": {},
   "outputs": [
    {
     "name": "stdout",
     "output_type": "stream",
     "text": [
      "Max Investment ::  4.8 Cr\n",
      "Min Investment ::  3.2 Cr\n"
     ]
    }
   ],
   "source": [
    "# Finding the maximum Investment of a Invester\n",
    "print('Max Investment :: ',float(df[df['Invester_name'] =='1Crowd'].loc[:,'Funding_Amount_in_cr'].max()),'Cr')\n",
    "# Finding the minimum Investment of a Invester\n",
    "print('Min Investment :: ',float(df[df['Invester_name'] =='1Crowd'].loc[:,'Funding_Amount_in_cr'].min()),'Cr')"
   ]
  },
  {
   "cell_type": "code",
   "execution_count": 60,
   "id": "9782a864-d573-4559-8daf-8c85aa921596",
   "metadata": {},
   "outputs": [
    {
     "name": "stdout",
     "output_type": "stream",
     "text": [
      "<class 'pandas.core.frame.DataFrame'>\n",
      "RangeIndex: 1574 entries, 0 to 1573\n",
      "Data columns (total 8 columns):\n",
      " #   Column                Non-Null Count  Dtype         \n",
      "---  ------                --------------  -----         \n",
      " 0   Date                  1574 non-null   datetime64[ns]\n",
      " 1   Industry_Vertical     1574 non-null   object        \n",
      " 2   Sub_Vertical          1574 non-null   object        \n",
      " 3   City                  1574 non-null   object        \n",
      " 4   Invester_name         1574 non-null   object        \n",
      " 5   Investment_Type       1574 non-null   object        \n",
      " 6   Funding_Amount_in_cr  1574 non-null   float64       \n",
      " 7   Startup_name          922 non-null    object        \n",
      "dtypes: datetime64[ns](1), float64(1), object(6)\n",
      "memory usage: 98.5+ KB\n"
     ]
    }
   ],
   "source": [
    "df.info()"
   ]
  },
  {
   "cell_type": "code",
   "execution_count": 58,
   "id": "f55aa328-0dba-4ffc-a956-225d986f1c29",
   "metadata": {},
   "outputs": [
    {
     "data": {
      "text/plain": [
       "916     21-07-2016\n",
       "826     19-09-2016\n",
       "1310    23-09-2015\n",
       "23      11-11-2019\n",
       "1286    07-09-2015\n",
       "231     29-05-2018\n",
       "659     03-01-2017\n",
       "763     30-11-2016\n",
       "842     01-08-2016\n",
       "306     27-02-2018\n",
       "Name: Date, dtype: object"
      ]
     },
     "execution_count": 58,
     "metadata": {},
     "output_type": "execute_result"
    }
   ],
   "source": [
    "# Finding \n",
    "df['Date'].sample(10)\n",
    "\n",
    "# df['Date'] = pd.to_datetime(df['Date'])\n",
    "# df['Year'] = df['Date'].dt.year\n"
   ]
  },
  {
   "cell_type": "code",
   "execution_count": 59,
   "id": "77782285-324a-4566-906d-39afbcc47c78",
   "metadata": {},
   "outputs": [],
   "source": [
    "df['Date'] = pd.to_datetime(df['Date'], format='%d-%m-%Y')"
   ]
  },
  {
   "cell_type": "code",
   "execution_count": 64,
   "id": "7d1829fd-9784-49ad-b7f5-9243464c29f5",
   "metadata": {},
   "outputs": [
    {
     "data": {
      "text/plain": [
       "Date\n",
       "2015    29783.59\n",
       "2016    16888.39\n",
       "2017    44825.91\n",
       "2018    32842.38\n",
       "2019    75900.02\n",
       "2020     3097.66\n",
       "Name: Funding_Amount_in_cr, dtype: float64"
      ]
     },
     "execution_count": 64,
     "metadata": {},
     "output_type": "execute_result"
    }
   ],
   "source": [
    "df.groupby(df['Date'].dt.year)['Funding_Amount_in_cr'].sum()"
   ]
  },
  {
   "cell_type": "code",
   "execution_count": 65,
   "id": "42f6bea7-7d3f-4452-8856-4d600a1fcd42",
   "metadata": {},
   "outputs": [],
   "source": [
    "df['Year']=df['Date'].dt.year"
   ]
  },
  {
   "cell_type": "code",
   "execution_count": 75,
   "id": "c63076f9-02cc-407d-913a-21a0a33eb76c",
   "metadata": {},
   "outputs": [],
   "source": [
    "Invester=pd.DataFrame(df.groupby(['Year','Invester_name'])['Funding_Amount_in_cr'].sum())"
   ]
  },
  {
   "cell_type": "code",
   "execution_count": 77,
   "id": "8e6c5dbc-76f6-43c0-983d-accad8223981",
   "metadata": {},
   "outputs": [],
   "source": []
  },
  {
   "cell_type": "code",
   "execution_count": 80,
   "id": "41844e5b-cdb9-4560-b184-e9931630be16",
   "metadata": {},
   "outputs": [],
   "source": [
    "Invester=pd.DataFrame(Invester.groupby(['Invester_name','Year'])['Funding_Amount_in_cr'].sum())"
   ]
  },
  {
   "cell_type": "code",
   "execution_count": 94,
   "id": "7bff5879-2b66-439d-9e0e-bcfc62ec99aa",
   "metadata": {},
   "outputs": [
    {
     "data": {
      "text/plain": [
       "Year\n",
       "2016    48.0\n",
       "2017    52.8\n",
       "Name: Funding_Amount_in_cr, dtype: float64"
      ]
     },
     "execution_count": 94,
     "metadata": {},
     "output_type": "execute_result"
    }
   ],
   "source": [
    "Invester=pd.DataFrame(df.groupby(['Year','Invester_name'])['Funding_Amount_in_cr'].sum())\n",
    "Invester.reset_index(inplace=True)\n",
    "Invester.loc[Invester['Invester_name'] == 'Carpediem Capital', :].groupby('Year')['Funding_Amount_in_cr'].sum()"
   ]
  },
  {
   "cell_type": "code",
   "execution_count": 90,
   "id": "06360e9c-0c63-402a-b5cd-752259df9947",
   "metadata": {},
   "outputs": [],
   "source": [
    "Invester.reset_index(inplace=True)"
   ]
  },
  {
   "cell_type": "code",
   "execution_count": null,
   "id": "4bc982f2-b174-413a-ac60-85b3b916000f",
   "metadata": {},
   "outputs": [],
   "source": []
  },
  {
   "cell_type": "code",
   "execution_count": 67,
   "id": "54528d7a-9a7a-42cd-bf5d-255774fc310a",
   "metadata": {},
   "outputs": [
    {
     "data": {
      "text/html": [
       "<div>\n",
       "<style scoped>\n",
       "    .dataframe tbody tr th:only-of-type {\n",
       "        vertical-align: middle;\n",
       "    }\n",
       "\n",
       "    .dataframe tbody tr th {\n",
       "        vertical-align: top;\n",
       "    }\n",
       "\n",
       "    .dataframe thead th {\n",
       "        text-align: right;\n",
       "    }\n",
       "</style>\n",
       "<table border=\"1\" class=\"dataframe\">\n",
       "  <thead>\n",
       "    <tr style=\"text-align: right;\">\n",
       "      <th></th>\n",
       "      <th>Date</th>\n",
       "      <th>Industry_Vertical</th>\n",
       "      <th>Sub_Vertical</th>\n",
       "      <th>City</th>\n",
       "      <th>Invester_name</th>\n",
       "      <th>Investment_Type</th>\n",
       "      <th>Funding_Amount_in_cr</th>\n",
       "      <th>Startup_name</th>\n",
       "      <th>Year</th>\n",
       "    </tr>\n",
       "  </thead>\n",
       "  <tbody>\n",
       "    <tr>\n",
       "      <th>560</th>\n",
       "      <td>2017-05-29</td>\n",
       "      <td>E-commerce</td>\n",
       "      <td>Online Medical equipment supplier</td>\n",
       "      <td>Mumbai</td>\n",
       "      <td>Carpediem Capital</td>\n",
       "      <td>Private Equity</td>\n",
       "      <td>28.0</td>\n",
       "      <td>Flickbay</td>\n",
       "      <td>2017</td>\n",
       "    </tr>\n",
       "    <tr>\n",
       "      <th>1078</th>\n",
       "      <td>2016-02-08</td>\n",
       "      <td>Consumer Internet</td>\n",
       "      <td>Ad Network</td>\n",
       "      <td>New Delhi</td>\n",
       "      <td>Green House Ventures (GHV)</td>\n",
       "      <td>Seed Funding Round</td>\n",
       "      <td>0.8</td>\n",
       "      <td>NaN</td>\n",
       "      <td>2016</td>\n",
       "    </tr>\n",
       "    <tr>\n",
       "      <th>612</th>\n",
       "      <td>2017-03-07</td>\n",
       "      <td>Technology</td>\n",
       "      <td>Cyber Security Solutions</td>\n",
       "      <td>Noida</td>\n",
       "      <td>IDFC Parampara Early Stage Opportunities Fund</td>\n",
       "      <td>Private Equity</td>\n",
       "      <td>8.0</td>\n",
       "      <td>Syona Cosmetics</td>\n",
       "      <td>2017</td>\n",
       "    </tr>\n",
       "    <tr>\n",
       "      <th>651</th>\n",
       "      <td>2017-02-16</td>\n",
       "      <td>Consumer Internet</td>\n",
       "      <td>Online Media</td>\n",
       "      <td>Bangalore</td>\n",
       "      <td>Kalaari Capital Partners, Qualcomm, 3ONE4 Capi...</td>\n",
       "      <td>Private Equity</td>\n",
       "      <td>24.0</td>\n",
       "      <td>Systemantics</td>\n",
       "      <td>2017</td>\n",
       "    </tr>\n",
       "  </tbody>\n",
       "</table>\n",
       "</div>"
      ],
      "text/plain": [
       "           Date  Industry_Vertical                       Sub_Vertical  \\\n",
       "560  2017-05-29         E-commerce  Online Medical equipment supplier   \n",
       "1078 2016-02-08  Consumer Internet                         Ad Network   \n",
       "612  2017-03-07         Technology           Cyber Security Solutions   \n",
       "651  2017-02-16  Consumer Internet                       Online Media   \n",
       "\n",
       "           City                                      Invester_name  \\\n",
       "560      Mumbai                                  Carpediem Capital   \n",
       "1078  New Delhi                         Green House Ventures (GHV)   \n",
       "612       Noida      IDFC Parampara Early Stage Opportunities Fund   \n",
       "651   Bangalore  Kalaari Capital Partners, Qualcomm, 3ONE4 Capi...   \n",
       "\n",
       "         Investment_Type  Funding_Amount_in_cr     Startup_name  Year  \n",
       "560       Private Equity                  28.0         Flickbay  2017  \n",
       "1078  Seed Funding Round                   0.8              NaN  2016  \n",
       "612       Private Equity                   8.0  Syona Cosmetics  2017  \n",
       "651       Private Equity                  24.0     Systemantics  2017  "
      ]
     },
     "execution_count": 67,
     "metadata": {},
     "output_type": "execute_result"
    }
   ],
   "source": [
    "df.sample(4)"
   ]
  },
  {
   "cell_type": "code",
   "execution_count": 97,
   "id": "e6b7df20-4303-4184-ac46-e504757abe12",
   "metadata": {},
   "outputs": [],
   "source": [
    "df.to_csv('clean_data.csv',index=False)"
   ]
  },
  {
   "cell_type": "code",
   "execution_count": null,
   "id": "9437cc8a-cbea-47da-9cfa-04220f180ddc",
   "metadata": {},
   "outputs": [],
   "source": []
  }
 ],
 "metadata": {
  "kernelspec": {
   "display_name": "Python 3 (ipykernel)",
   "language": "python",
   "name": "python3"
  },
  "language_info": {
   "codemirror_mode": {
    "name": "ipython",
    "version": 3
   },
   "file_extension": ".py",
   "mimetype": "text/x-python",
   "name": "python",
   "nbconvert_exporter": "python",
   "pygments_lexer": "ipython3",
   "version": "3.13.0"
  }
 },
 "nbformat": 4,
 "nbformat_minor": 5
}
